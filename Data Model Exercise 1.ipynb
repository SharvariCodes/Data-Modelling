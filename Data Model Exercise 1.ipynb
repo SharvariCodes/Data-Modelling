{
 "cells": [
  {
   "cell_type": "code",
   "execution_count": 1,
   "id": "b3a4a83d",
   "metadata": {},
   "outputs": [],
   "source": [
    "import psycopg2"
   ]
  },
  {
   "cell_type": "markdown",
   "id": "22b09502",
   "metadata": {},
   "source": [
    "## Create a connection to the database"
   ]
  },
  {
   "cell_type": "code",
   "execution_count": 2,
   "id": "b43ec7cc",
   "metadata": {},
   "outputs": [],
   "source": [
    "try:\n",
    "    conn = psycopg2.connect(\"host=localhost dbname=postgres user=postgres password=root\")\n",
    "except psycopg2.Error as e:\n",
    "    print(\"Error: Could not make connection to the Postgres database\")\n",
    "    print(e)"
   ]
  },
  {
   "cell_type": "markdown",
   "id": "027ba6b9",
   "metadata": {},
   "source": [
    "## Use the connection to get a cursor that can be used to execute queries"
   ]
  },
  {
   "cell_type": "code",
   "execution_count": 3,
   "id": "4995a479",
   "metadata": {},
   "outputs": [],
   "source": [
    "try:\n",
    "    cur = conn.cursor()\n",
    "except psycopg2.Error as e:\n",
    "    print(\"Error: Could not get cursor to the database\")\n",
    "    print(e)"
   ]
  },
  {
   "cell_type": "markdown",
   "id": "fe386f17",
   "metadata": {},
   "source": [
    "## Set autocommit as true so that each action is commited without having to call conn.commit() after each command"
   ]
  },
  {
   "cell_type": "code",
   "execution_count": 4,
   "id": "7710d7c9",
   "metadata": {},
   "outputs": [],
   "source": [
    "conn.set_session(autocommit= True)"
   ]
  },
  {
   "cell_type": "markdown",
   "id": "d4e9a59f",
   "metadata": {},
   "source": [
    "## Create a database to work in"
   ]
  },
  {
   "cell_type": "code",
   "execution_count": 5,
   "id": "f8200f83",
   "metadata": {},
   "outputs": [],
   "source": [
    "try:\n",
    "    cur.execute(\"create database firstdb\")\n",
    "except psycopg2.Error as e:\n",
    "    print(e)"
   ]
  },
  {
   "cell_type": "markdown",
   "id": "1f89081e",
   "metadata": {},
   "source": [
    "## Add the database name in the connect statement. Close our connection to the default database. Reconnect to the firstdb database and get a new cursor"
   ]
  },
  {
   "cell_type": "code",
   "execution_count": 6,
   "id": "6acfa4ab",
   "metadata": {},
   "outputs": [],
   "source": [
    "try:\n",
    "    conn.close()\n",
    "except psycopg2.Error as e:\n",
    "    print(e)"
   ]
  },
  {
   "cell_type": "code",
   "execution_count": 7,
   "id": "4a01250b",
   "metadata": {},
   "outputs": [],
   "source": [
    "try:\n",
    "    conn = psycopg2.connect(\"host=localhost dbname=firstdb user=postgres password=root\")\n",
    "except psycopg2.Error as e:\n",
    "    print(\"Error: Could not make connection to the Postgres database\")\n",
    "    print(e)"
   ]
  },
  {
   "cell_type": "code",
   "execution_count": 8,
   "id": "539d40fb",
   "metadata": {},
   "outputs": [],
   "source": [
    "try:\n",
    "    cur = conn.cursor()\n",
    "except psycopg2.Error as e:\n",
    "    print(\"Error: Could not get cursor to the database\")\n",
    "    print(e)"
   ]
  },
  {
   "cell_type": "code",
   "execution_count": 9,
   "id": "273cb8a6",
   "metadata": {},
   "outputs": [],
   "source": [
    "conn.set_session(autocommit = True)"
   ]
  },
  {
   "cell_type": "markdown",
   "id": "b82d16b8",
   "metadata": {},
   "source": [
    "## Create 'Students' table"
   ]
  },
  {
   "cell_type": "code",
   "execution_count": 10,
   "id": "4f17367a",
   "metadata": {},
   "outputs": [],
   "source": [
    "try:\n",
    "    cur.execute(\"create table Students(\\\n",
    "                student_id int,\\\n",
    "                name varchar,\\\n",
    "                age int,\\\n",
    "                gender varchar,\\\n",
    "                subject varchar,\\\n",
    "                marks int);\")\n",
    "except psycopg2.Error as e:\n",
    "    print(\"Error: Issue creating table\")\n",
    "    print(e)"
   ]
  },
  {
   "cell_type": "markdown",
   "id": "1b2bf020",
   "metadata": {},
   "source": [
    "### Insert rows into the table"
   ]
  },
  {
   "cell_type": "code",
   "execution_count": 12,
   "id": "af369d81",
   "metadata": {},
   "outputs": [],
   "source": [
    "try:\n",
    "    cur.execute(\"insert into Students(student_id, name, age, gender, subject, marks)\\\n",
    "    values (%s, %s, %s, %s, %s, %s)\",\\\n",
    "               (1, \"Raj\", 23, \"Male\", \"DE\", 85))\n",
    "except psycopg2.Error as e:\n",
    "    print(\"Error: Issue inserting rows\")\n",
    "    print(e)\n",
    "    \n",
    "try:\n",
    "    cur.execute(\"insert into Students(student_id, name, age, gender, subject, marks)\\\n",
    "    values (%s, %s, %s, %s, %s, %s)\",\\\n",
    "               (2, \"Priya\", 23, \"Female\", \"DE\", 85))\n",
    "except psycopg2.Error as e:\n",
    "    print(\"Error: Issue inserting rows\")\n",
    "    print(e)"
   ]
  },
  {
   "cell_type": "code",
   "execution_count": 13,
   "id": "03676923",
   "metadata": {},
   "outputs": [
    {
     "name": "stdout",
     "output_type": "stream",
     "text": [
      "(1, 'Raj', 23, 'Male', 'DE', 85)\n",
      "(2, 'Priya', 23, 'Female', 'DE', 85)\n"
     ]
    }
   ],
   "source": [
    "try:\n",
    "    cur.execute(\"select * from Students;\")\n",
    "except psycopg2.Error as e:\n",
    "    print(\"Error: select *\")\n",
    "    print(e)\n",
    "    \n",
    "row =cur.fetchone()\n",
    "while row:\n",
    "    print(row)\n",
    "    row = cur.fetchone()"
   ]
  },
  {
   "cell_type": "markdown",
   "id": "96e70ec5",
   "metadata": {},
   "source": [
    "## Don't forget to close the connection"
   ]
  },
  {
   "cell_type": "code",
   "execution_count": 14,
   "id": "9fa8c063",
   "metadata": {},
   "outputs": [],
   "source": [
    "cur.close()\n",
    "conn.close()"
   ]
  },
  {
   "cell_type": "code",
   "execution_count": null,
   "id": "65b42df9",
   "metadata": {},
   "outputs": [],
   "source": []
  }
 ],
 "metadata": {
  "kernelspec": {
   "display_name": "Python 3 (ipykernel)",
   "language": "python",
   "name": "python3"
  },
  "language_info": {
   "codemirror_mode": {
    "name": "ipython",
    "version": 3
   },
   "file_extension": ".py",
   "mimetype": "text/x-python",
   "name": "python",
   "nbconvert_exporter": "python",
   "pygments_lexer": "ipython3",
   "version": "3.9.12"
  }
 },
 "nbformat": 4,
 "nbformat_minor": 5
}
